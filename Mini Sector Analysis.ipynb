{
 "cells": [
  {
   "cell_type": "code",
   "execution_count": 176,
   "id": "94f9c62e",
   "metadata": {},
   "outputs": [],
   "source": [
    "import numpy as np\n",
    "import pandas as pd\n",
    "import matplotlib.pyplot as plt\n",
    "from matplotlib import cm\n",
    "from matplotlib.collections import LineCollection\n",
    "import matplotlib.colors\n",
    "from matplotlib.colors import LinearSegmentedColormap\n",
    "\n",
    "import seaborn as sns\n",
    "import fastf1 as ff1\n",
    "from fastf1 import plotting\n",
    "plotting.setup_mpl()\n",
    "\n",
    "%matplotlib inline"
   ]
  },
  {
   "cell_type": "code",
   "execution_count": 177,
   "id": "2b14ea3f",
   "metadata": {},
   "outputs": [],
   "source": [
    "YEAR = 2023\n",
    "RACE = 'saudi arabia'\n",
    "SESSION = 'Q'\n",
    "\n",
    "driver1 = 'PER'\n",
    "driver2 = 'ALO'\n",
    "color1 = rbr\n",
    "color2 = ast\n",
    "\n",
    "# We want 25 mini-sectors (this can be adjusted up and down)\n",
    "num_minisectors = 25"
   ]
  },
  {
   "cell_type": "code",
   "execution_count": 178,
   "id": "81ae937b",
   "metadata": {},
   "outputs": [],
   "source": [
    "ff1.Cache.enable_cache('../../cache')"
   ]
  },
  {
   "cell_type": "code",
   "execution_count": 179,
   "id": "b7b5cff4",
   "metadata": {},
   "outputs": [
    {
     "name": "stderr",
     "output_type": "stream",
     "text": [
      "core           INFO \tLoading data for Saudi Arabian Grand Prix - Qualifying [v2.2.2]\n",
      "api            INFO \tUsing cached data for driver_info\n",
      "api            INFO \tUsing cached data for timing_data\n",
      "api            INFO \tUsing cached data for timing_app_data\n",
      "core           INFO \tProcessing timing data...\n",
      "api            INFO \tUsing cached data for session_status_data\n",
      "api            INFO \tUsing cached data for track_status_data\n",
      "api            INFO \tUsing cached data for car_data\n",
      "api            INFO \tUsing cached data for position_data\n",
      "api            INFO \tUsing cached data for weather_data\n",
      "core           INFO \tFinished loading data for 20 drivers: ['11', '16', '14', '63', '55', '18', '31', '44', '81', '10', '27', '24', '20', '77', '1', '22', '23', '21', '4', '2']\n"
     ]
    }
   ],
   "source": [
    "session = ff1.get_session(YEAR, RACE, SESSION)\n",
    "weekend = session.event\n",
    "session.load()"
   ]
  },
  {
   "cell_type": "code",
   "execution_count": 180,
   "id": "4a329cb6",
   "metadata": {},
   "outputs": [
    {
     "name": "stderr",
     "output_type": "stream",
     "text": [
      "c:\\users\\581946\\appdata\\local\\programs\\python\\python39\\lib\\site-packages\\fastf1\\core.py:1093: FutureWarning: `Session.load_laps` is deprecated and will beremoved in a future version.\n",
      "Use `Session.load` instead.\n",
      "  warnings.warn(\"`Session.load_laps` is deprecated and will be\"\n",
      "core           INFO \tLoading data for Saudi Arabian Grand Prix - Qualifying [v2.2.2]\n",
      "api            INFO \tUsing cached data for driver_info\n",
      "api            INFO \tUsing cached data for timing_data\n",
      "api            INFO \tUsing cached data for timing_app_data\n",
      "core           INFO \tProcessing timing data...\n",
      "api            INFO \tUsing cached data for session_status_data\n",
      "api            INFO \tUsing cached data for track_status_data\n",
      "api            INFO \tUsing cached data for car_data\n",
      "api            INFO \tUsing cached data for position_data\n",
      "api            INFO \tUsing cached data for weather_data\n",
      "core           INFO \tFinished loading data for 20 drivers: ['11', '16', '14', '63', '55', '18', '31', '44', '81', '10', '27', '24', '20', '77', '1', '22', '23', '21', '4', '2']\n"
     ]
    }
   ],
   "source": [
    "laps = session.load_laps(with_telemetry=True)"
   ]
  },
  {
   "cell_type": "code",
   "execution_count": 181,
   "id": "c3df66ea",
   "metadata": {},
   "outputs": [],
   "source": [
    "# Select the laps\n",
    "laps_driver1 = laps.pick_driver(driver1)\n",
    "laps_driver2 = laps.pick_driver(driver2)\n",
    "\n",
    "# Get the telemetry data from their fastest lap\n",
    "fastest_driver1 = laps_driver1.pick_fastest().get_telemetry().add_distance()\n",
    "fastest_driver2 = laps_driver2.pick_fastest().get_telemetry().add_distance()\n",
    "\n",
    "# Since the telemetry data does not have a variable that indicates the driver, \n",
    "# we need to create that column\n",
    "fastest_driver1['Driver'] = driver1\n",
    "fastest_driver2['Driver'] = driver2\n",
    "\n",
    "# Merge both lap telemetries so we have everything in one DataFrame\n",
    "telemetry = fastest_driver1.append(fastest_driver2)"
   ]
  },
  {
   "cell_type": "code",
   "execution_count": 182,
   "id": "e3a10439",
   "metadata": {},
   "outputs": [],
   "source": [
    "# Grab the maximum value of distance that is known in the telemetry\n",
    "total_distance = total_distance = max(telemetry['Distance'])\n",
    "\n",
    "# Generate equally sized mini-sectors \n",
    "minisector_length = total_distance / num_minisectors"
   ]
  },
  {
   "cell_type": "code",
   "execution_count": 183,
   "id": "c365073e",
   "metadata": {},
   "outputs": [],
   "source": [
    "# Initiate minisector variable, with 0 (meters) as a starting point.\n",
    "minisectors = [0]\n",
    "\n",
    "# Add multiples of minisector_length to the minisectors\n",
    "for i in range(0, (num_minisectors - 1)):\n",
    "    minisectors.append(minisector_length * (i + 1))"
   ]
  },
  {
   "cell_type": "code",
   "execution_count": 184,
   "id": "27f931b7",
   "metadata": {},
   "outputs": [],
   "source": [
    "telemetry['Minisector'] = telemetry['Distance'].apply(\n",
    "    lambda dist: (\n",
    "        int((dist // minisector_length) + 1)\n",
    "    )\n",
    ")"
   ]
  },
  {
   "cell_type": "code",
   "execution_count": 185,
   "id": "12d0ebed",
   "metadata": {},
   "outputs": [],
   "source": [
    "# Calculate avg. speed per driver per mini sector\n",
    "average_speed = telemetry.groupby(['Minisector', 'Driver'])['Speed'].mean().reset_index()"
   ]
  },
  {
   "cell_type": "code",
   "execution_count": 186,
   "id": "e325f148",
   "metadata": {},
   "outputs": [
    {
     "data": {
      "text/html": [
       "<div>\n",
       "<style scoped>\n",
       "    .dataframe tbody tr th:only-of-type {\n",
       "        vertical-align: middle;\n",
       "    }\n",
       "\n",
       "    .dataframe tbody tr th {\n",
       "        vertical-align: top;\n",
       "    }\n",
       "\n",
       "    .dataframe thead th {\n",
       "        text-align: right;\n",
       "    }\n",
       "</style>\n",
       "<table border=\"1\" class=\"dataframe\">\n",
       "  <thead>\n",
       "    <tr style=\"text-align: right;\">\n",
       "      <th></th>\n",
       "      <th>Minisector</th>\n",
       "      <th>Driver</th>\n",
       "      <th>Speed</th>\n",
       "    </tr>\n",
       "  </thead>\n",
       "  <tbody>\n",
       "    <tr>\n",
       "      <th>0</th>\n",
       "      <td>1</td>\n",
       "      <td>ALO</td>\n",
       "      <td>310.333333</td>\n",
       "    </tr>\n",
       "    <tr>\n",
       "      <th>1</th>\n",
       "      <td>1</td>\n",
       "      <td>PER</td>\n",
       "      <td>321.272727</td>\n",
       "    </tr>\n",
       "    <tr>\n",
       "      <th>2</th>\n",
       "      <td>2</td>\n",
       "      <td>ALO</td>\n",
       "      <td>246.821429</td>\n",
       "    </tr>\n",
       "    <tr>\n",
       "      <th>3</th>\n",
       "      <td>2</td>\n",
       "      <td>PER</td>\n",
       "      <td>255.724138</td>\n",
       "    </tr>\n",
       "    <tr>\n",
       "      <th>4</th>\n",
       "      <td>3</td>\n",
       "      <td>ALO</td>\n",
       "      <td>140.574468</td>\n",
       "    </tr>\n",
       "  </tbody>\n",
       "</table>\n",
       "</div>"
      ],
      "text/plain": [
       "   Minisector Driver       Speed\n",
       "0           1    ALO  310.333333\n",
       "1           1    PER  321.272727\n",
       "2           2    ALO  246.821429\n",
       "3           2    PER  255.724138\n",
       "4           3    ALO  140.574468"
      ]
     },
     "execution_count": 186,
     "metadata": {},
     "output_type": "execute_result"
    }
   ],
   "source": [
    "average_speed.head()"
   ]
  },
  {
   "cell_type": "code",
   "execution_count": 187,
   "id": "6f9bf964",
   "metadata": {},
   "outputs": [],
   "source": [
    "# Select the driver with the highest average speed\n",
    "fastest_driver = average_speed.loc[average_speed.groupby(['Minisector'])['Speed'].idxmax()]\n",
    "\n",
    "# Get rid of the speed column and rename the driver column\n",
    "fastest_driver = fastest_driver[['Minisector', 'Driver']].rename(columns={'Driver': 'Fastest_driver'})"
   ]
  },
  {
   "cell_type": "code",
   "execution_count": 188,
   "id": "95ff21be",
   "metadata": {},
   "outputs": [
    {
     "data": {
      "text/html": [
       "<div>\n",
       "<style scoped>\n",
       "    .dataframe tbody tr th:only-of-type {\n",
       "        vertical-align: middle;\n",
       "    }\n",
       "\n",
       "    .dataframe tbody tr th {\n",
       "        vertical-align: top;\n",
       "    }\n",
       "\n",
       "    .dataframe thead th {\n",
       "        text-align: right;\n",
       "    }\n",
       "</style>\n",
       "<table border=\"1\" class=\"dataframe\">\n",
       "  <thead>\n",
       "    <tr style=\"text-align: right;\">\n",
       "      <th></th>\n",
       "      <th>Minisector</th>\n",
       "      <th>Fastest_driver</th>\n",
       "    </tr>\n",
       "  </thead>\n",
       "  <tbody>\n",
       "    <tr>\n",
       "      <th>1</th>\n",
       "      <td>1</td>\n",
       "      <td>PER</td>\n",
       "    </tr>\n",
       "    <tr>\n",
       "      <th>3</th>\n",
       "      <td>2</td>\n",
       "      <td>PER</td>\n",
       "    </tr>\n",
       "    <tr>\n",
       "      <th>5</th>\n",
       "      <td>3</td>\n",
       "      <td>PER</td>\n",
       "    </tr>\n",
       "    <tr>\n",
       "      <th>7</th>\n",
       "      <td>4</td>\n",
       "      <td>PER</td>\n",
       "    </tr>\n",
       "    <tr>\n",
       "      <th>8</th>\n",
       "      <td>5</td>\n",
       "      <td>ALO</td>\n",
       "    </tr>\n",
       "    <tr>\n",
       "      <th>10</th>\n",
       "      <td>6</td>\n",
       "      <td>ALO</td>\n",
       "    </tr>\n",
       "    <tr>\n",
       "      <th>13</th>\n",
       "      <td>7</td>\n",
       "      <td>PER</td>\n",
       "    </tr>\n",
       "    <tr>\n",
       "      <th>14</th>\n",
       "      <td>8</td>\n",
       "      <td>ALO</td>\n",
       "    </tr>\n",
       "    <tr>\n",
       "      <th>17</th>\n",
       "      <td>9</td>\n",
       "      <td>PER</td>\n",
       "    </tr>\n",
       "    <tr>\n",
       "      <th>19</th>\n",
       "      <td>10</td>\n",
       "      <td>PER</td>\n",
       "    </tr>\n",
       "    <tr>\n",
       "      <th>20</th>\n",
       "      <td>11</td>\n",
       "      <td>ALO</td>\n",
       "    </tr>\n",
       "    <tr>\n",
       "      <th>23</th>\n",
       "      <td>12</td>\n",
       "      <td>PER</td>\n",
       "    </tr>\n",
       "    <tr>\n",
       "      <th>25</th>\n",
       "      <td>13</td>\n",
       "      <td>PER</td>\n",
       "    </tr>\n",
       "    <tr>\n",
       "      <th>26</th>\n",
       "      <td>14</td>\n",
       "      <td>ALO</td>\n",
       "    </tr>\n",
       "    <tr>\n",
       "      <th>29</th>\n",
       "      <td>15</td>\n",
       "      <td>PER</td>\n",
       "    </tr>\n",
       "    <tr>\n",
       "      <th>31</th>\n",
       "      <td>16</td>\n",
       "      <td>PER</td>\n",
       "    </tr>\n",
       "    <tr>\n",
       "      <th>33</th>\n",
       "      <td>17</td>\n",
       "      <td>PER</td>\n",
       "    </tr>\n",
       "    <tr>\n",
       "      <th>34</th>\n",
       "      <td>18</td>\n",
       "      <td>ALO</td>\n",
       "    </tr>\n",
       "    <tr>\n",
       "      <th>36</th>\n",
       "      <td>19</td>\n",
       "      <td>ALO</td>\n",
       "    </tr>\n",
       "    <tr>\n",
       "      <th>39</th>\n",
       "      <td>20</td>\n",
       "      <td>PER</td>\n",
       "    </tr>\n",
       "    <tr>\n",
       "      <th>41</th>\n",
       "      <td>21</td>\n",
       "      <td>PER</td>\n",
       "    </tr>\n",
       "    <tr>\n",
       "      <th>43</th>\n",
       "      <td>22</td>\n",
       "      <td>PER</td>\n",
       "    </tr>\n",
       "    <tr>\n",
       "      <th>45</th>\n",
       "      <td>23</td>\n",
       "      <td>PER</td>\n",
       "    </tr>\n",
       "    <tr>\n",
       "      <th>46</th>\n",
       "      <td>24</td>\n",
       "      <td>ALO</td>\n",
       "    </tr>\n",
       "    <tr>\n",
       "      <th>49</th>\n",
       "      <td>25</td>\n",
       "      <td>PER</td>\n",
       "    </tr>\n",
       "  </tbody>\n",
       "</table>\n",
       "</div>"
      ],
      "text/plain": [
       "    Minisector Fastest_driver\n",
       "1            1            PER\n",
       "3            2            PER\n",
       "5            3            PER\n",
       "7            4            PER\n",
       "8            5            ALO\n",
       "10           6            ALO\n",
       "13           7            PER\n",
       "14           8            ALO\n",
       "17           9            PER\n",
       "19          10            PER\n",
       "20          11            ALO\n",
       "23          12            PER\n",
       "25          13            PER\n",
       "26          14            ALO\n",
       "29          15            PER\n",
       "31          16            PER\n",
       "33          17            PER\n",
       "34          18            ALO\n",
       "36          19            ALO\n",
       "39          20            PER\n",
       "41          21            PER\n",
       "43          22            PER\n",
       "45          23            PER\n",
       "46          24            ALO\n",
       "49          25            PER"
      ]
     },
     "execution_count": 188,
     "metadata": {},
     "output_type": "execute_result"
    }
   ],
   "source": [
    "fastest_driver"
   ]
  },
  {
   "cell_type": "code",
   "execution_count": 189,
   "id": "7530a3ca",
   "metadata": {},
   "outputs": [],
   "source": [
    "# Join the fastest driver per minisector with the full telemetry\n",
    "telemetry = telemetry.merge(fastest_driver, on=['Minisector'])\n",
    "\n",
    "# Order the data by distance to make matploblib does not get confused\n",
    "telemetry = telemetry.sort_values(by=['Distance'])\n",
    "\n",
    "# Convert driver name to integer\n",
    "telemetry.loc[telemetry['Fastest_driver'] == driver1, 'Fastest_driver_int'] = 1\n",
    "telemetry.loc[telemetry['Fastest_driver'] == driver2, 'Fastest_driver_int'] = 2"
   ]
  },
  {
   "cell_type": "code",
   "execution_count": 196,
   "id": "c13454e1",
   "metadata": {},
   "outputs": [
    {
     "data": {
      "image/png": "[encoded data removed]",
      "text/plain": [
       "<Figure size 1296x720 with 2 Axes>"
      ]
     },
     "metadata": {
      "needs_background": "dark"
     },
     "output_type": "display_data"
    }
   ],
   "source": [
    "x = np.array(telemetry['X'].values)\n",
    "y = np.array(telemetry['Y'].values)\n",
    "\n",
    "points = np.array([x, y]).T.reshape(-1, 1, 2)\n",
    "segments = np.concatenate([points[:-1], points[1:]], axis=1)\n",
    "fastest_driver_array = telemetry['Fastest_driver_int'].to_numpy().astype(float)\n",
    "\n",
    "colors = [color1, color2]\n",
    "cm = LinearSegmentedColormap.from_list(\n",
    "        'newcm', colors, N=2)\n",
    "\n",
    "lc_comp = LineCollection(segments, norm=plt.Normalize(1, cm.N+1), cmap=cm)\n",
    "lc_comp.set_array(fastest_driver_array)\n",
    "lc_comp.set_linewidth(5)\n",
    "\n",
    "plt.rcParams['figure.figsize'] = [18, 10]\n",
    "\n",
    "plt.gca().add_collection(lc_comp)\n",
    "plt.axis('equal')\n",
    "plt.tick_params(labelleft=False, left=False, labelbottom=False, bottom=False)\n",
    "\n",
    "cbar = plt.colorbar(mappable=lc_comp, boundaries=np.arange(1,4))\n",
    "#cbar.set_ticks(np.arange(1.5, 4.5))\n",
    "#cbar.set_ticklabels(['PER', 'LEC'])\n",
    "\n",
    "plt.savefig(f\"2023_PER_vs_ALO_q.png\", dpi=300)\n",
    "\n",
    "plt.show()"
   ]
  },
  {
   "cell_type": "code",
   "execution_count": null,
   "id": "e38dd51d",
   "metadata": {},
   "outputs": [],
   "source": []
  }
 ],
 "metadata": {
  "kernelspec": {
   "display_name": "Python 3",
   "language": "python",
   "name": "python3"
  },
  "language_info": {
   "codemirror_mode": {
    "name": "ipython",
    "version": 3
   },
   "file_extension": ".py",
   "mimetype": "text/x-python",
   "name": "python",
   "nbconvert_exporter": "python",
   "pygments_lexer": "ipython3",
   "version": "3.9.0"
  },
  "vscode": {
   "interpreter": {
    "hash": "6ff1fa4b498b34c98b20e45f2dc9b9a67b3448c4e20ef01f5643c3b09504c155"
   }
  }
 },
 "nbformat": 4,
 "nbformat_minor": 5
}
